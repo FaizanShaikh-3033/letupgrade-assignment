{
 "cells": [
  {
   "cell_type": "code",
   "execution_count": 1,
   "metadata": {},
   "outputs": [],
   "source": [
    "import numpy as np\n",
    "import matplotlib.pyplot as plt\n",
    "import pandas as pd\n",
    "from numpy.random import randn"
   ]
  },
  {
   "cell_type": "code",
   "execution_count": 2,
   "metadata": {},
   "outputs": [],
   "source": [
    "df=pd.DataFrame(randn(10,4),columns=['a','b','c','d'])"
   ]
  },
  {
   "cell_type": "code",
   "execution_count": 3,
   "metadata": {},
   "outputs": [
    {
     "data": {
      "text/html": [
       "<div>\n",
       "<style scoped>\n",
       "    .dataframe tbody tr th:only-of-type {\n",
       "        vertical-align: middle;\n",
       "    }\n",
       "\n",
       "    .dataframe tbody tr th {\n",
       "        vertical-align: top;\n",
       "    }\n",
       "\n",
       "    .dataframe thead th {\n",
       "        text-align: right;\n",
       "    }\n",
       "</style>\n",
       "<table border=\"1\" class=\"dataframe\">\n",
       "  <thead>\n",
       "    <tr style=\"text-align: right;\">\n",
       "      <th></th>\n",
       "      <th>a</th>\n",
       "      <th>b</th>\n",
       "      <th>c</th>\n",
       "      <th>d</th>\n",
       "    </tr>\n",
       "  </thead>\n",
       "  <tbody>\n",
       "    <tr>\n",
       "      <th>0</th>\n",
       "      <td>-0.756235</td>\n",
       "      <td>-0.261414</td>\n",
       "      <td>0.770188</td>\n",
       "      <td>-0.189092</td>\n",
       "    </tr>\n",
       "    <tr>\n",
       "      <th>1</th>\n",
       "      <td>0.972490</td>\n",
       "      <td>-0.524023</td>\n",
       "      <td>0.024841</td>\n",
       "      <td>0.594610</td>\n",
       "    </tr>\n",
       "    <tr>\n",
       "      <th>2</th>\n",
       "      <td>-0.948617</td>\n",
       "      <td>-0.588452</td>\n",
       "      <td>0.264804</td>\n",
       "      <td>-0.476055</td>\n",
       "    </tr>\n",
       "    <tr>\n",
       "      <th>3</th>\n",
       "      <td>-0.468372</td>\n",
       "      <td>-0.810837</td>\n",
       "      <td>0.514361</td>\n",
       "      <td>-0.345440</td>\n",
       "    </tr>\n",
       "    <tr>\n",
       "      <th>4</th>\n",
       "      <td>-0.513115</td>\n",
       "      <td>-1.232632</td>\n",
       "      <td>-1.162283</td>\n",
       "      <td>0.485419</td>\n",
       "    </tr>\n",
       "    <tr>\n",
       "      <th>5</th>\n",
       "      <td>0.385650</td>\n",
       "      <td>0.538758</td>\n",
       "      <td>-0.225466</td>\n",
       "      <td>0.962577</td>\n",
       "    </tr>\n",
       "    <tr>\n",
       "      <th>6</th>\n",
       "      <td>0.844012</td>\n",
       "      <td>0.043216</td>\n",
       "      <td>0.596704</td>\n",
       "      <td>-0.368334</td>\n",
       "    </tr>\n",
       "    <tr>\n",
       "      <th>7</th>\n",
       "      <td>-0.706166</td>\n",
       "      <td>0.184177</td>\n",
       "      <td>-2.015223</td>\n",
       "      <td>1.249685</td>\n",
       "    </tr>\n",
       "    <tr>\n",
       "      <th>8</th>\n",
       "      <td>-0.909783</td>\n",
       "      <td>-0.051229</td>\n",
       "      <td>0.299393</td>\n",
       "      <td>-3.094630</td>\n",
       "    </tr>\n",
       "    <tr>\n",
       "      <th>9</th>\n",
       "      <td>1.115026</td>\n",
       "      <td>-0.121588</td>\n",
       "      <td>0.756216</td>\n",
       "      <td>1.434927</td>\n",
       "    </tr>\n",
       "  </tbody>\n",
       "</table>\n",
       "</div>"
      ],
      "text/plain": [
       "          a         b         c         d\n",
       "0 -0.756235 -0.261414  0.770188 -0.189092\n",
       "1  0.972490 -0.524023  0.024841  0.594610\n",
       "2 -0.948617 -0.588452  0.264804 -0.476055\n",
       "3 -0.468372 -0.810837  0.514361 -0.345440\n",
       "4 -0.513115 -1.232632 -1.162283  0.485419\n",
       "5  0.385650  0.538758 -0.225466  0.962577\n",
       "6  0.844012  0.043216  0.596704 -0.368334\n",
       "7 -0.706166  0.184177 -2.015223  1.249685\n",
       "8 -0.909783 -0.051229  0.299393 -3.094630\n",
       "9  1.115026 -0.121588  0.756216  1.434927"
      ]
     },
     "execution_count": 3,
     "metadata": {},
     "output_type": "execute_result"
    }
   ],
   "source": [
    "df"
   ]
  },
  {
   "cell_type": "code",
   "execution_count": 4,
   "metadata": {},
   "outputs": [
    {
     "data": {
      "text/plain": [
       "<matplotlib.legend.Legend at 0x195cad1c820>"
      ]
     },
     "execution_count": 4,
     "metadata": {},
     "output_type": "execute_result"
    },
    {
     "data": {
      "image/png": "[encoded data removed]",
      "text/plain": [
       "<Figure size 432x288 with 1 Axes>"
      ]
     },
     "metadata": {
      "needs_background": "light"
     },
     "output_type": "display_data"
    }
   ],
   "source": [
    "plt.bar(df['a'],df['c'],linewidth=0.4,alpha=0.3,color='red',label='Red Bar')\n",
    "plt.bar(df['b'],df['d'],linewidth=0.4,alpha=0.3,color='green',label='Green Bar')\n",
    "plt.legend(loc='best')"
   ]
  }
 ],
 "metadata": {
  "kernelspec": {
   "display_name": "Python 3",
   "language": "python",
   "name": "python3"
  },
  "language_info": {
   "codemirror_mode": {
    "name": "ipython",
    "version": 3
   },
   "file_extension": ".py",
   "mimetype": "text/x-python",
   "name": "python",
   "nbconvert_exporter": "python",
   "pygments_lexer": "ipython3",
   "version": "3.8.5"
  }
 },
 "nbformat": 4,
 "nbformat_minor": 4
}
